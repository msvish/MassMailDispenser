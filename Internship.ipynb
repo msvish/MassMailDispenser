{
 "cells": [
  {
   "cell_type": "code",
   "execution_count": null,
   "metadata": {},
   "outputs": [
    {
     "name": "stdout",
     "output_type": "stream",
     "text": [
      " * Serving Flask app \"__main__\" (lazy loading)\n",
      " * Environment: production\n",
      "   WARNING: This is a development server. Do not use it in a production deployment.\n",
      "   Use a production WSGI server instead.\n",
      " * Debug mode: off\n"
     ]
    },
    {
     "name": "stderr",
     "output_type": "stream",
     "text": [
      " * Running on http://127.0.0.1:5000/ (Press CTRL+C to quit)\n"
     ]
    },
    {
     "name": "stdout",
     "output_type": "stream",
     "text": [
      "6 ['Test Emails', 'vishms1999@yahoo.com', 'vishms1999@gmail.com', 'vishms2506@gmail.com', 'dsprerana98@gmail.com', '']\n",
      "6\n",
      "4 ['vishms1999@yahoo.com', 'vishms1999@gmail.com', 'vishms2506@gmail.com', 'dsprerana98@gmail.com'] 2 ['Test Emails', '']\n"
     ]
    },
    {
     "name": "stderr",
     "output_type": "stream",
     "text": [
      "127.0.0.1 - - [14/May/2022 16:04:33] \"\u001b[37mPOST /login HTTP/1.1\u001b[0m\" 200 -\n"
     ]
    }
   ],
   "source": [
    "from flask import Flask,render_template,request,redirect,url_for,session\n",
    "import json\n",
    "import smtplib\n",
    "import time\n",
    "import re\n",
    "\n",
    "EMAIL_LIST=list()\n",
    "VALID_IDS=list()\n",
    "INVALID_IDS=list()\n",
    "\n",
    "app=Flask(__name__)\n",
    "\n",
    "def validate(arr):\n",
    "    print(len(arr))\n",
    "    for i in arr:\n",
    "        if(re.match(\"([A-Za-z0-9]+[.-_])*[A-Za-z0-9]+@[A-Za-z0-9-]+(\\.[A-Z|a-z]{2,})+\",i)):\n",
    "            VALID_IDS.append(i)\n",
    "        else:\n",
    "            INVALID_IDS.append(i)\n",
    "    return VALID_IDS,INVALID_IDS\n",
    "\n",
    "@app.route('/login',methods=['POST'])\n",
    "def func1():\n",
    "    request_data=request.files['file']\n",
    "    fromemail=request.form.get('fromemail')\n",
    "    password=request.form.get('pwd')\n",
    "    subject=request.form.get('subject')\n",
    "    body=request.form.get('body')\n",
    "    EMAIL_LIST=list(map(str,request_data.read().decode('UTF-8').split(\"\\r\\n\")))\n",
    "    \n",
    "    print(len(EMAIL_LIST),EMAIL_LIST)\n",
    "    valid,invalid=validate(EMAIL_LIST)\n",
    "    \n",
    "    print(len(valid),valid,len(invalid),invalid)\n",
    "    \n",
    "    MESSAGE = \"SUBJECT: {} \\n\\n{}\".format(subject,body)\n",
    "    \n",
    "    EMAIL_SERVER = smtplib.SMTP_SSL(\"smtp.gmail.com\", \"465\")\n",
    "    \n",
    "    EMAIL_SERVER.login(fromemail, password)\n",
    "    \n",
    "    for email in valid:\n",
    "        EMAIL_SERVER.sendmail(fromemail, email, MESSAGE)\n",
    "        time.sleep(0.005)\n",
    "    return \"Mails have been sent\"\n",
    "\n",
    "\n",
    "\n",
    "if __name__==\"__main__\":\n",
    "    app.run()"
   ]
  }
}
