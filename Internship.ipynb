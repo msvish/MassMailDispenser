{
 "cells": [
  {
   "cell_type": "code",
   "execution_count": null,
   "metadata": {},
   "outputs": [
    {
     "name": "stdout",
     "output_type": "stream",
     "text": [
      " * Serving Flask app \"__main__\" (lazy loading)\n",
      " * Environment: production\n",
      "   WARNING: This is a development server. Do not use it in a production deployment.\n",
      "   Use a production WSGI server instead.\n",
      " * Debug mode: off\n"
     ]
    },
    {
     "name": "stderr",
     "output_type": "stream",
     "text": [
      " * Running on http://127.0.0.1:5000/ (Press CTRL+C to quit)\n"
     ]
    },
    {
     "name": "stdout",
     "output_type": "stream",
     "text": [
      "6 ['Test Emails', 'vishms1999@yahoo.com', 'vishms1999@gmail.com', 'vishms2506@gmail.com', 'dsprerana98@gmail.com', '']\n",
      "6\n",
      "4 ['vishms1999@yahoo.com', 'vishms1999@gmail.com', 'vishms2506@gmail.com', 'dsprerana98@gmail.com'] 2 ['Test Emails', '']\n"
     ]
    },
    {
     "name": "stderr",
     "output_type": "stream",
     "text": [
      "127.0.0.1 - - [14/May/2022 16:04:33] \"\u001b[37mPOST /login HTTP/1.1\u001b[0m\" 200 -\n"
     ]
    }
   ],
   "source": [
    "from flask import Flask,render_template,request,redirect,url_for,session\n",
    "import json\n",
    "import smtplib\n",
    "import time\n",
    "import re\n",
    "\n",
    "EMAIL_LIST=list()\n",
    "VALID_IDS=list()\n",
    "INVALID_IDS=list()\n",
    "\n",
    "app=Flask(__name__)\n",
    "\n",
    "def validate(arr):\n",
    "    print(len(arr))\n",
    "    for i in arr:\n",
    "        if(re.match(\"([A-Za-z0-9]+[.-_])*[A-Za-z0-9]+@[A-Za-z0-9-]+(\\.[A-Z|a-z]{2,})+\",i)):\n",
    "            VALID_IDS.append(i)\n",
    "        else:\n",
    "            INVALID_IDS.append(i)\n",
    "    return VALID_IDS,INVALID_IDS\n",
    "\n",
    "@app.route('/login',methods=['POST'])\n",
    "def func1():\n",
    "    request_data=request.files['file']\n",
    "    fromemail=request.form.get('fromemail')\n",
    "    password=request.form.get('pwd')\n",
    "    subject=request.form.get('subject')\n",
    "    body=request.form.get('body')\n",
    "    EMAIL_LIST=list(map(str,request_data.read().decode('UTF-8').split(\"\\r\\n\")))\n",
    "    \n",
    "    print(len(EMAIL_LIST),EMAIL_LIST)\n",
    "    valid,invalid=validate(EMAIL_LIST)\n",
    "    \n",
    "    print(len(valid),valid,len(invalid),invalid)\n",
    "    \n",
    "    MESSAGE = \"SUBJECT: {} \\n\\n{}\".format(subject,body)\n",
    "    \n",
    "    EMAIL_SERVER = smtplib.SMTP_SSL(\"smtp.gmail.com\", \"465\")\n",
    "    \n",
    "    EMAIL_SERVER.login(fromemail, password)\n",
    "    \n",
    "    for email in valid:\n",
    "        EMAIL_SERVER.sendmail(fromemail, email, MESSAGE)\n",
    "        time.sleep(0.005)\n",
    "    return \"Mails have been sent\"\n",
    "\n",
    "\n",
    "\n",
    "if __name__==\"__main__\":\n",
    "    app.run()"
   ]
  },
  {
   "cell_type": "code",
   "execution_count": 18,
   "metadata": {},
   "outputs": [
    {
     "name": "stdout",
     "output_type": "stream",
     "text": [
      "[1, 2, 3, 4, 5, 6, 9]\n"
     ]
    }
   ],
   "source": [
    "a=[2,5,4,3,6,9,1]\n",
    "def insertionSort(a):\n",
    "    for i in range(1,len(a)):\n",
    "        key=a[i]\n",
    "        j=i-1\n",
    "        while(j>=0 and a[j]>key):\n",
    "            a[j+1]=a[j]\n",
    "            j=j-1\n",
    "        a[j+1]=key\n",
    "\n",
    "    print(a)\n",
    "    \n",
    "insertionSort(a)"
   ]
  },
  {
   "cell_type": "code",
   "execution_count": 12,
   "metadata": {},
   "outputs": [
    {
     "name": "stdout",
     "output_type": "stream",
     "text": [
      "[1, 2, 3, 4, 5, 6, 9]\n"
     ]
    }
   ],
   "source": [
    "a=[2,5,4,3,6,9,1]\n",
    "\n",
    "def BubbelSort(a):\n",
    "    \n",
    "    for i in range(0,len(a)):\n",
    "        for j in range(0,len(a)-i-1):\n",
    "            if(a[j]>a[j+1]):\n",
    "                temp=a[j]\n",
    "                a[j]=a[j+1]\n",
    "                a[j+1]=temp\n",
    "                \n",
    "    print(a)\n",
    "\n",
    "BubbelSort(a)"
   ]
  },
  {
   "cell_type": "code",
   "execution_count": 9,
   "metadata": {},
   "outputs": [
    {
     "name": "stdout",
     "output_type": "stream",
     "text": [
      "Key is found at position 2\n"
     ]
    }
   ],
   "source": [
    "a=[5,6,7,8,9,10]\n",
    "key=7\n",
    "\n",
    "def binarySearch(a,key):\n",
    "    beg=0\n",
    "    end=len(a)-1\n",
    "    found=False\n",
    "    while(beg<=end):\n",
    "        mid=(beg+end)//2      \n",
    "        if(a[mid]==key):\n",
    "            found=True\n",
    "            break;\n",
    "            \n",
    "        if(key>a[mid]):\n",
    "            beg=mid+1\n",
    "            \n",
    "        if(key<a[mid]):\n",
    "            end=mid-1\n",
    "            \n",
    "    if(found):\n",
    "        print(\"Key is found at position\",mid)\n",
    "    else:\n",
    "        print(\"Key is not found\")\n",
    "        \n",
    "binarySearch(a,key)"
   ]
  },
  {
   "cell_type": "code",
   "execution_count": 10,
   "metadata": {},
   "outputs": [
    {
     "name": "stdout",
     "output_type": "stream",
     "text": [
      "Key is not found\n"
     ]
    }
   ],
   "source": [
    "a=[2,5,4,3,6,9,1]\n",
    "key=11\n",
    "\n",
    "def linearSearch(a,key):\n",
    "    counter=False\n",
    "    for i in range(len(a)):\n",
    "        if key==a[i]:\n",
    "            counter=True\n",
    "    if(counter):\n",
    "        print(\"Key is found\")\n",
    "    else:\n",
    "        print(\"Key is not found\")\n",
    "        \n",
    "linearSearch(a,key)"
   ]
  },
  {
   "cell_type": "code",
   "execution_count": 7,
   "metadata": {},
   "outputs": [
    {
     "name": "stdout",
     "output_type": "stream",
     "text": [
      "[1, 2, 3, 4]\n",
      "Popped element 4\n",
      "[1, 2, 3]\n"
     ]
    }
   ],
   "source": [
    " class Stack:\n",
    "    def __init__(self):\n",
    "        self.stack=list()\n",
    "        \n",
    "    def push(self,a):\n",
    "        self.stack.append(a)\n",
    "    \n",
    "    def pop(self):\n",
    "        ele=self.stack.pop()\n",
    "        print(\"Popped element\",ele)\n",
    "    \n",
    "    def printf(self):\n",
    "        print(self.stack)\n",
    "        \n",
    "        \n",
    "s1=Stack()\n",
    "s1.push(1)\n",
    "s1.push(2)\n",
    "s1.push(3)\n",
    "s1.push(4)\n",
    "s1.printf()\n",
    "s1.pop()\n",
    "s1.printf()\n"
   ]
  },
  {
   "cell_type": "code",
   "execution_count": 9,
   "metadata": {},
   "outputs": [
    {
     "name": "stdout",
     "output_type": "stream",
     "text": [
      "[1, 2, 3, 4]\n",
      "elem removed 1\n",
      "[2, 3, 4]\n"
     ]
    }
   ],
   "source": [
    "class Queue:\n",
    "    def __init__(self):\n",
    "        self.queue=list()\n",
    "        \n",
    "    def insert(self,a):\n",
    "        self.queue.append(a)\n",
    "        \n",
    "    def delete(self):\n",
    "        ele=self.queue.pop(0)\n",
    "        print(\"elem removed\",ele)\n",
    "        \n",
    "    def printf(self):\n",
    "        print(self.queue)\n",
    "        \n",
    "q1=Queue()\n",
    "q1.insert(1)\n",
    "q1.insert(2)\n",
    "q1.insert(3)\n",
    "q1.insert(4)\n",
    "q1.printf()\n",
    "q1.delete()\n",
    "q1.printf()\n",
    "\n"
   ]
  },
  {
   "cell_type": "code",
   "execution_count": 29,
   "metadata": {},
   "outputs": [
    {
     "name": "stdout",
     "output_type": "stream",
     "text": [
      "4->3->2->1->5->6->\n",
      "\n",
      "4->3->2->1->5->\n",
      "\n",
      "3->2->1->5->\n",
      "\n"
     ]
    }
   ],
   "source": [
    " class Node:\n",
    "    def __init__(self,a):\n",
    "        self.data=a\n",
    "        self.next=None\n",
    "\n",
    "class Single:\n",
    "    def __init__(self):\n",
    "        self.head=None\n",
    "    \n",
    "    def insertEnd(self,a):\n",
    "        if self.head is None:\n",
    "            self.head=Node(a)\n",
    "        else:\n",
    "            printVal=self.head\n",
    "            while printVal.next is not None:\n",
    "                printVal=printVal.next\n",
    "            printVal.next=Node(a)\n",
    "            \n",
    "    def insertBeg(self,a):\n",
    "        if self.head is None:\n",
    "            self.head=Node(a)\n",
    "        else:\n",
    "            newNode=Node(a)\n",
    "            newNode.next=self.head\n",
    "            self.head=newNode\n",
    "    \n",
    "    def deleteBeg(self):\n",
    "        node=self.head\n",
    "        self.head=self.head.next\n",
    "        node.next=None\n",
    "        \n",
    "    def deleteEnd(self):\n",
    "        printVal=self.head\n",
    "        while printVal.next is not None:\n",
    "            previous=printVal\n",
    "            printVal=printVal.next\n",
    "        previous.next=None\n",
    "        \n",
    "    def printf(self):\n",
    "        printVal=self.head\n",
    "        while printVal is not None:\n",
    "            print(printVal.data,end=\"->\")\n",
    "            printVal=printVal.next\n",
    "        print(\"\\n\")\n",
    "        \n",
    "s=Single()\n",
    "s.insertBeg(1)\n",
    "s.insertBeg(2)\n",
    "s.insertBeg(3)\n",
    "s.insertBeg(4)\n",
    "s.insertEnd(5)\n",
    "s.insertEnd(6)\n",
    "s.printf()\n",
    "s.deleteEnd()\n",
    "s.printf()\n",
    "s.deleteBeg()\n",
    "s.printf()\n",
    "\n",
    "        \n",
    "                "
   ]
  },
  {
   "cell_type": "code",
   "execution_count": 35,
   "metadata": {},
   "outputs": [
    {
     "name": "stdout",
     "output_type": "stream",
     "text": [
      "4 2 6 "
     ]
    }
   ],
   "source": [
    "class Node:\n",
    "    def __init__(self,a):\n",
    "        self.data=a\n",
    "        self.left=None\n",
    "        self.right=None\n",
    "    \n",
    "    def insert(self,a):\n",
    "        if a<self.data:\n",
    "            if self.left is None:\n",
    "                self.left=Node(a)\n",
    "            else:\n",
    "                self.left.insert(a)\n",
    "        if a>self.data:\n",
    "            if self.right is None:\n",
    "                self.right=Node(a)\n",
    "            else:\n",
    "                self.right.insert(a)\n",
    "    \n",
    "    def search(self,key):\n",
    "        if key<self.data:\n",
    "            if self.left is None:\n",
    "                print(\"key not found\")\n",
    "            else:\n",
    "                self.left.search(key)\n",
    "        elif key>self.data:\n",
    "            if self.right is None:\n",
    "                print(\"Key not found\")\n",
    "            else:\n",
    "                self.right.search(key)\n",
    "        else:\n",
    "            print(\"key found\")\n",
    "            \n",
    "            \n",
    "    def printTree(self):\n",
    "        print(self.data, end=\" \")\n",
    "        if self.left:\n",
    "            self.left.printTree()\n",
    "        if self.right:\n",
    "            self.right.printTree()\n",
    "            \n",
    "            \n",
    "s=Node(4)\n",
    "s.insert(2)\n",
    "s.insert(6)\n",
    "s.printTree()\n",
    "            "
   ]
  },
  {
   "cell_type": "code",
   "execution_count": 38,
   "metadata": {},
   "outputs": [
    {
     "name": "stdout",
     "output_type": "stream",
     "text": [
      "24\n"
     ]
    }
   ],
   "source": [
    "def factorial(n):\n",
    "    if n==0 or n==1:\n",
    "        return 1\n",
    "    else:\n",
    "        return n*factorial(n-1)\n",
    "\n",
    "res=factorial(4)\n",
    "print(res)"
   ]
  },
  {
   "cell_type": "code",
   "execution_count": 4,
   "metadata": {},
   "outputs": [
    {
     "name": "stdout",
     "output_type": "stream",
     "text": [
      "1 1 2 3 5 8 13 21 34 55 "
     ]
    }
   ],
   "source": [
    "def fibonacci(n):\n",
    "    counter=n-2\n",
    "    a=1\n",
    "    b=1\n",
    "    print(a,b,end=\" \")\n",
    "    while(counter>0):\n",
    "        c=a+b\n",
    "        print(c,end=\" \")\n",
    "        a=b\n",
    "        b=c\n",
    "        counter-=1\n",
    "\n",
    "fibonacci(10)"
   ]
  },
  {
   "cell_type": "code",
   "execution_count": 7,
   "metadata": {},
   "outputs": [
    {
     "name": "stdout",
     "output_type": "stream",
     "text": [
      "[2, 3, 4, 5, 6]\n"
     ]
    }
   ],
   "source": [
    "a=[5,3,2,4,6]\n",
    "\n",
    "for i in range(0,len(a)-1):\n",
    "    for j in range(0,len(a)-i-1):\n",
    "        if(a[j]>a[j+1]):\n",
    "            temp=a[j]\n",
    "            a[j]=a[j+1]\n",
    "            a[j+1]=temp\n",
    "print(a)"
   ]
  }
 ],
 "metadata": {
  "kernelspec": {
   "display_name": "Python 3",
   "language": "python",
   "name": "python3"
  },
  "language_info": {
   "codemirror_mode": {
    "name": "ipython",
    "version": 3
   },
   "file_extension": ".py",
   "mimetype": "text/x-python",
   "name": "python",
   "nbconvert_exporter": "python",
   "pygments_lexer": "ipython3",
   "version": "3.7.6"
  }
 },
 "nbformat": 4,
 "nbformat_minor": 4
}
